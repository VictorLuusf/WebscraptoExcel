{
 "cells": [
  {
   "cell_type": "code",
   "execution_count": 5,
   "id": "81d132ce",
   "metadata": {},
   "outputs": [
    {
     "name": "stdout",
     "output_type": "stream",
     "text": [
      "We have found 9 tables on the CDPH COVID-19 Race and Ethnicity Data site\n",
      "We are preparing your data now. Please wait a moment.\n"
     ]
    },
    {
     "name": "stderr",
     "output_type": "stream",
     "text": [
      "Processing Dataframes: 100%|████████████████████████████████████████| 3/3 [00:00<00:00, 3000.93it/s]"
     ]
    },
    {
     "name": "stdout",
     "output_type": "stream",
     "text": [
      "Creating your excel spreadsheet\n",
      "Done. It should be in your downloads folder if you set the path for it to be there.\n"
     ]
    },
    {
     "name": "stderr",
     "output_type": "stream",
     "text": [
      "\n",
      "C:\\Users\\flash\\AppData\\Local\\Temp\\ipykernel_13548\\4198502647.py:39: FutureWarning: save is not part of the public API, usage can give unexpected results and will be removed in a future version\n",
      "  writer.save()\n"
     ]
    }
   ],
   "source": [
    "import pandas as pd\n",
    "from tqdm import tqdm\n",
    "import requests\n",
    "import os\n",
    "\n",
    "def show_progress_bar(iterable, total=None, desc='', unit='it', ncols=100):\n",
    "    return tqdm(iterable, total=total, desc=desc, unit=unit, ncols=ncols)\n",
    "\n",
    "url = 'https://www.cdph.ca.gov/Programs/CID/DCDC/Pages/COVID-19/Age-Race-Ethnicity.aspx'\n",
    "response = requests.get(url)\n",
    "df_list = pd.read_html(response.text, flavor='bs4')  # Use 'bs4' as the flavor\n",
    "print(f'We have found {len(df_list)} tables on the CDPH COVID-19 Race and Ethnicity Data site')\n",
    "\n",
    "print('We are preparing your data now. Please wait a moment.')\n",
    "\n",
    "# Create a list of dataframes instead of separate variables\n",
    "df_names = ['All Cases', 'COVID Cases 18+', 'COVID Cases 0to80+']\n",
    "df_list = df_list[:3]  # Considering only the first three dataframes\n",
    "\n",
    "for i, df in enumerate(show_progress_bar(df_list, desc='Processing Dataframes')):\n",
    "    df.columns = ['Race/Ethnicity', 'Number of Cases', 'Percentage of Cases among Age Group', 'Number of Deaths', 'Percentage of Deaths among Age Group', 'Age Group']\n",
    "    df['Age Group'] = df_names[i]\n",
    "\n",
    "# Concatenate the dataframes\n",
    "df9 = pd.concat(df_list[2:], ignore_index=True)\n",
    "\n",
    "print('Creating your excel spreadsheet')\n",
    "\n",
    "# Get the user's home directory\n",
    "user_home = os.path.expanduser(\"~\")\n",
    "\n",
    "# Construct the output path for the Downloads folder\n",
    "out_path = os.path.join(user_home, \"Downloads\", \"CDPHdownload.xlsx\")\n",
    "\n",
    "writer = pd.ExcelWriter(out_path, engine='xlsxwriter')\n",
    "df_list[0].to_excel(writer, sheet_name='All Cases', index=False)\n",
    "df_list[1].to_excel(writer, sheet_name='COVID Cases 18+', index=False)\n",
    "df9.to_excel(writer, sheet_name='COVID Cases 0to80+', index=False)\n",
    "writer.save()\n",
    "print('Done. It should be in your downloads folder if you set the path for it to be there.')"
   ]
  },
  {
   "cell_type": "code",
   "execution_count": null,
   "id": "fb64afc5",
   "metadata": {},
   "outputs": [],
   "source": []
  }
 ],
 "metadata": {
  "kernelspec": {
   "display_name": "Python 3 (ipykernel)",
   "language": "python",
   "name": "python3"
  },
  "language_info": {
   "codemirror_mode": {
    "name": "ipython",
    "version": 3
   },
   "file_extension": ".py",
   "mimetype": "text/x-python",
   "name": "python",
   "nbconvert_exporter": "python",
   "pygments_lexer": "ipython3",
   "version": "3.9.16"
  }
 },
 "nbformat": 4,
 "nbformat_minor": 5
}
