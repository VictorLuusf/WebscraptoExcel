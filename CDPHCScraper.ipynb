{
 "cells": [
  {
   "cell_type": "code",
   "execution_count": 2,
   "metadata": {},
   "outputs": [
    {
     "name": "stdout",
     "output_type": "stream",
     "text": [
      "We have found 8 tables on the CDPH COVID-19 Race and Ethnicity Data site\n",
      "We are preparing your data now. Please wait a moment.\n",
      "Renaming columns to match your reporting needs.\n",
      "Adding the Age Group Category to the Data\n",
      "Creating your excel spreadsheet\n",
      "Done. It should be in your downloads folder if you set the path for it to be there.\n"
     ]
    }
   ],
   "source": [
    "import pandas as pd\n",
    "url = 'https://www.cdph.ca.gov/Programs/CID/DCDC/Pages/COVID-19/Race-Ethnicity.aspx'\n",
    "df_list = pd.read_html(url)\n",
    "print(f'We have found {len(df_list)} tables on the CDPH COVID-19 Race and Ethnicity Data site')\n",
    "\n",
    "print('We are preparing your data now. Please wait a moment.')\n",
    "df1 = df_list[0]\n",
    "df2 = df_list[1]\n",
    "df3 = df_list[2]\n",
    "df4 = df_list[3]\n",
    "df5 = df_list[4]\n",
    "df6 = df_list[5]\n",
    "df7 = df_list[6]\n",
    "df8 = df_list[7]\n",
    "\n",
    "print('Renaming columns to match your reporting needs.')\n",
    "df1.columns = ['Race/Ethnicity', 'Number of Cases', 'Percentage of Cases among Age Group', 'Number of Deaths', 'Percentage of Deaths among Age Group', 'Age Group']\n",
    "df2.columns = ['Race/Ethnicity', 'Number of Cases', 'Percentage of Cases among Age Group', 'Number of Deaths', 'Percentage of Deaths among Age Group', 'Age Group']\n",
    "df3.columns = ['Race/Ethnicity', 'Number of Cases', 'Percentage of Cases among Age Group', 'Number of Deaths', 'Percentage of Deaths among Age Group', 'Age Group']\n",
    "df4.columns = ['Race/Ethnicity', 'Number of Cases', 'Percentage of Cases among Age Group', 'Number of Deaths', 'Percentage of Deaths among Age Group', 'Age Group']\n",
    "df5.columns = ['Race/Ethnicity', 'Number of Cases', 'Percentage of Cases among Age Group', 'Number of Deaths', 'Percentage of Deaths among Age Group', 'Age Group']\n",
    "df6.columns = ['Race/Ethnicity', 'Number of Cases', 'Percentage of Cases among Age Group', 'Number of Deaths', 'Percentage of Deaths among Age Group', 'Age Group']\n",
    "df7.columns = ['Race/Ethnicity', 'Number of Cases', 'Percentage of Cases among Age Group', 'Number of Deaths', 'Percentage of Deaths among Age Group', 'Age Group']\n",
    "df8.columns = ['Race/Ethnicity', 'Number of Cases', 'Percentage of Cases among Age Group', 'Number of Deaths', 'Percentage of Deaths among Age Group', 'Age Group']\n",
    "\n",
    "print('Adding the Age Group Category to the Data')\n",
    "df1['Age Group'] = 'All Cases'\n",
    "df2['Age Group'] = '18+'\n",
    "df3['Age Group'] = '0-17'\n",
    "df4['Age Group'] = '18-34'\n",
    "df5['Age Group'] = '35-49'\n",
    "df6['Age Group'] = '50-64'\n",
    "df7['Age Group'] = '65-79'\n",
    "df8['Age Group'] = '80+'\n",
    "\n",
    "df3 = df3[:-1]\n",
    "df4 = df4[:-1]\n",
    "df5 = df5[:-1]\n",
    "df6 = df6[:-1]\n",
    "df7 = df7[:-1]\n",
    "df8 = df8[:-1]\n",
    "\n",
    "#Use Concat to add the data on each other\n",
    "df9 = pd.concat([df3,df4,df5,df6,df7,df8])\n",
    "\n",
    "print('Creating your excel spreadsheet')\n",
    "\n",
    "out_path = \"C:\\\\Users\\\\flash3389\\\\Downloads\\\\CDPHdownload.xlsx\"\n",
    "writer = pd.ExcelWriter(out_path , engine='xlsxwriter')\n",
    "df1.to_excel(writer, sheet_name='All Cases', index=False)\n",
    "df2.to_excel(writer, sheet_name='COVID Cases 18+', index=False)\n",
    "df9.to_excel(writer, sheet_name='COVID Cases 0to80+', index=False)\n",
    "writer.save()\n",
    "print('Done. It should be in your downloads folder if you set the path for it to be there.')"
   ]
  },
  {
   "cell_type": "code",
   "execution_count": null,
   "metadata": {},
   "outputs": [],
   "source": []
  }
 ],
 "metadata": {
  "kernelspec": {
   "display_name": "Python 3",
   "language": "python",
   "name": "python3"
  },
  "language_info": {
   "codemirror_mode": {
    "name": "ipython",
    "version": 3
   },
   "file_extension": ".py",
   "mimetype": "text/x-python",
   "name": "python",
   "nbconvert_exporter": "python",
   "pygments_lexer": "ipython3",
   "version": "3.8.3"
  }
 },
 "nbformat": 4,
 "nbformat_minor": 4
}
